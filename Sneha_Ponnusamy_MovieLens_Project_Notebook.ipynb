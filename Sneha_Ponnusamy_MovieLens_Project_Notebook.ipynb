{
  "nbformat": 4,
  "nbformat_minor": 0,
  "metadata": {
    "colab": {
      "name": "Sneha Ponnusamy MovieLens Project Notebook.ipynb",
      "provenance": [],
      "collapsed_sections": []
    },
    "kernelspec": {
      "display_name": "Python 3",
      "language": "python",
      "name": "python3"
    },
    "language_info": {
      "codemirror_mode": {
        "name": "ipython",
        "version": 3
      },
      "file_extension": ".py",
      "mimetype": "text/x-python",
      "name": "python",
      "nbconvert_exporter": "python",
      "pygments_lexer": "ipython3",
      "version": "3.7.4"
    }
  },
  "cells": [
    {
      "cell_type": "markdown",
      "metadata": {
        "id": "DlOblZnhptzh"
      },
      "source": [
        "### `Project - MovieLens Data Analysis`\n",
        "\n",
        "The GroupLens Research Project is a research group in the Department of Computer Science and Engineering at the University of Minnesota. The data is widely used for collaborative filtering and other filtering solutions. However, we will be using this data to act as a means to demonstrate our skill in using Python to “play” with data.\n",
        "\n",
        "### `Objective:`\n",
        "- To implement the techniques learnt as a part of the course.\n",
        "\n",
        "### `Datasets Information:`\n",
        "\n",
        "*rating.csv:* It contains information on ratings given by the users to a particular movie.\n",
        "- user id: id assigned to every user\n",
        "- movie id: id assigned to every movie\n",
        "- rating: rating given by the user\n",
        "- timestamp: Time recorded when the user gave a rating\n",
        "\n",
        "*movie.csv:* File contains information related to the movies and their genre.\n",
        "- movie id: id assigned to every movie\n",
        "- movie title: Title of the movie\n",
        "- release date: Date of release of the movie\n",
        "- Action: Genre containing binary values (1 - for action 0 - not action)\n",
        "- Adventure: Genre containing binary values (1 - for adventure 0 - not adventure)\n",
        "- Animation: Genre containing binary values (1 - for animation 0 - not animation)\n",
        "- Children’s: Genre containing binary values (1 - for children's 0 - not children's)\n",
        "- Comedy: Genre containing binary values (1 - for comedy 0 - not comedy)\n",
        "- Crime: Genre containing binary values (1 - for crime 0 - not crime)\n",
        "- Documentary: Genre containing binary values (1 - for documentary 0 - not documentary)\n",
        "- Drama: Genre containing binary values (1 - for drama 0 - not drama)\n",
        "- Fantasy: Genre containing binary values (1 - for fantasy 0 - not fantasy)\n",
        "- Film-Noir: Genre containing binary values (1 - for film-noir 0 - not film-noir)\n",
        "- Horror: Genre containing binary values (1 - for horror 0 - not horror)\n",
        "- Musical: Genre containing binary values (1 - for musical 0 - not musical)\n",
        "- Mystery: Genre containing binary values (1 - for mystery 0 - not mystery)\n",
        "- Romance: Genre containing binary values (1 - for romance 0 - not romance)\n",
        "- Sci-Fi: Genre containing binary values (1 - for sci-fi 0 - not sci-fi)\n",
        "- Thriller: Genre containing binary values (1 - for thriller 0 - not thriller)\n",
        "- War: Genre containing binary values (1 - for war 0 - not war)\n",
        "- Western: Genre containing binary values (1 - for western - not western)\n",
        "\n",
        "\n",
        "*user.csv:* It contains information of the users who have rated the movies.\n",
        "- user id: id assigned to every user\n",
        "- age: Age of the user\n",
        "- gender: Gender of the user\n",
        "- occupation: Occupation of the user\n",
        "- zip code: Zip code of the use\n",
        "\n",
        "**`Please provide your insights wherever necessary.`**\n",
        "\n",
        "### `Learning Outcomes:`\n",
        "- Exploratory Data Analysis\n",
        "\n",
        "- Visualization using Python\n",
        "\n",
        "- Pandas – groupby, merging \n",
        "\n",
        "\n",
        "### `Domain` \n",
        "- Internet and Entertainment\n",
        "\n",
        "**Note that the project will need you to apply the concepts of groupby and merging extensively.**"
      ]
    },
    {
      "cell_type": "markdown",
      "metadata": {
        "id": "OOI-K92Dptzq"
      },
      "source": [
        "### 1. Import the necessary packages - 2.5 marks"
      ]
    },
    {
      "cell_type": "code",
      "metadata": {
        "id": "-54bi0lQptzr"
      },
      "source": [
        "import numpy as np\n",
        "import pandas as pd\n",
        "import matplotlib.pyplot as plt\n",
        "import seaborn as sns\n"
      ],
      "execution_count": 3,
      "outputs": []
    },
    {
      "cell_type": "code",
      "metadata": {
        "colab": {
          "base_uri": "https://localhost:8080/"
        },
        "id": "A2SImdgfbn3L",
        "outputId": "013b314e-38c2-4868-acd2-3358cc34b9b4"
      },
      "source": [
        "%matplotlib --list"
      ],
      "execution_count": null,
      "outputs": [
        {
          "output_type": "stream",
          "text": [
            "Available matplotlib backends: ['tk', 'gtk', 'gtk3', 'wx', 'qt4', 'qt5', 'qt', 'osx', 'nbagg', 'notebook', 'agg', 'inline', 'ipympl', 'widget']\n"
          ],
          "name": "stdout"
        }
      ]
    },
    {
      "cell_type": "code",
      "metadata": {
        "id": "4iAfxea1brI3"
      },
      "source": [
        "%matplotlib inline"
      ],
      "execution_count": null,
      "outputs": []
    },
    {
      "cell_type": "markdown",
      "metadata": {
        "id": "PH1DnOT7ptzr"
      },
      "source": [
        "### 2. Read the 3 datasets into dataframes - 2.5 marks"
      ]
    },
    {
      "cell_type": "code",
      "metadata": {
        "id": "62P2q1ioptzs",
        "scrolled": true
      },
      "source": [
        "data=pd.read_csv('Data.csv')\n",
        "item =pd.read_csv('item.csv')\n",
        "user=pd.read_csv('user.csv')"
      ],
      "execution_count": 147,
      "outputs": []
    },
    {
      "cell_type": "code",
      "metadata": {
        "colab": {
          "base_uri": "https://localhost:8080/",
          "height": 415
        },
        "id": "tZL3fDr2gGlS",
        "outputId": "c9cd77ea-dea8-4120-82a9-86245536bec0"
      },
      "source": [
        "data"
      ],
      "execution_count": 148,
      "outputs": [
        {
          "output_type": "execute_result",
          "data": {
            "text/html": [
              "<div>\n",
              "<style scoped>\n",
              "    .dataframe tbody tr th:only-of-type {\n",
              "        vertical-align: middle;\n",
              "    }\n",
              "\n",
              "    .dataframe tbody tr th {\n",
              "        vertical-align: top;\n",
              "    }\n",
              "\n",
              "    .dataframe thead th {\n",
              "        text-align: right;\n",
              "    }\n",
              "</style>\n",
              "<table border=\"1\" class=\"dataframe\">\n",
              "  <thead>\n",
              "    <tr style=\"text-align: right;\">\n",
              "      <th></th>\n",
              "      <th>user id</th>\n",
              "      <th>movie id</th>\n",
              "      <th>rating</th>\n",
              "      <th>timestamp</th>\n",
              "    </tr>\n",
              "  </thead>\n",
              "  <tbody>\n",
              "    <tr>\n",
              "      <th>0</th>\n",
              "      <td>196</td>\n",
              "      <td>242</td>\n",
              "      <td>3</td>\n",
              "      <td>881250949</td>\n",
              "    </tr>\n",
              "    <tr>\n",
              "      <th>1</th>\n",
              "      <td>186</td>\n",
              "      <td>302</td>\n",
              "      <td>3</td>\n",
              "      <td>891717742</td>\n",
              "    </tr>\n",
              "    <tr>\n",
              "      <th>2</th>\n",
              "      <td>22</td>\n",
              "      <td>377</td>\n",
              "      <td>1</td>\n",
              "      <td>878887116</td>\n",
              "    </tr>\n",
              "    <tr>\n",
              "      <th>3</th>\n",
              "      <td>244</td>\n",
              "      <td>51</td>\n",
              "      <td>2</td>\n",
              "      <td>880606923</td>\n",
              "    </tr>\n",
              "    <tr>\n",
              "      <th>4</th>\n",
              "      <td>166</td>\n",
              "      <td>346</td>\n",
              "      <td>1</td>\n",
              "      <td>886397596</td>\n",
              "    </tr>\n",
              "    <tr>\n",
              "      <th>...</th>\n",
              "      <td>...</td>\n",
              "      <td>...</td>\n",
              "      <td>...</td>\n",
              "      <td>...</td>\n",
              "    </tr>\n",
              "    <tr>\n",
              "      <th>99995</th>\n",
              "      <td>880</td>\n",
              "      <td>476</td>\n",
              "      <td>3</td>\n",
              "      <td>880175444</td>\n",
              "    </tr>\n",
              "    <tr>\n",
              "      <th>99996</th>\n",
              "      <td>716</td>\n",
              "      <td>204</td>\n",
              "      <td>5</td>\n",
              "      <td>879795543</td>\n",
              "    </tr>\n",
              "    <tr>\n",
              "      <th>99997</th>\n",
              "      <td>276</td>\n",
              "      <td>1090</td>\n",
              "      <td>1</td>\n",
              "      <td>874795795</td>\n",
              "    </tr>\n",
              "    <tr>\n",
              "      <th>99998</th>\n",
              "      <td>13</td>\n",
              "      <td>225</td>\n",
              "      <td>2</td>\n",
              "      <td>882399156</td>\n",
              "    </tr>\n",
              "    <tr>\n",
              "      <th>99999</th>\n",
              "      <td>12</td>\n",
              "      <td>203</td>\n",
              "      <td>3</td>\n",
              "      <td>879959583</td>\n",
              "    </tr>\n",
              "  </tbody>\n",
              "</table>\n",
              "<p>100000 rows × 4 columns</p>\n",
              "</div>"
            ],
            "text/plain": [
              "       user id  movie id  rating  timestamp\n",
              "0          196       242       3  881250949\n",
              "1          186       302       3  891717742\n",
              "2           22       377       1  878887116\n",
              "3          244        51       2  880606923\n",
              "4          166       346       1  886397596\n",
              "...        ...       ...     ...        ...\n",
              "99995      880       476       3  880175444\n",
              "99996      716       204       5  879795543\n",
              "99997      276      1090       1  874795795\n",
              "99998       13       225       2  882399156\n",
              "99999       12       203       3  879959583\n",
              "\n",
              "[100000 rows x 4 columns]"
            ]
          },
          "metadata": {
            "tags": []
          },
          "execution_count": 148
        }
      ]
    },
    {
      "cell_type": "code",
      "metadata": {
        "colab": {
          "base_uri": "https://localhost:8080/",
          "height": 326
        },
        "id": "eq2RzBfxgKFA",
        "outputId": "a08b3fc0-3b12-460b-f70c-952261f5459b"
      },
      "source": [
        "item.head()"
      ],
      "execution_count": null,
      "outputs": [
        {
          "output_type": "execute_result",
          "data": {
            "text/html": [
              "<div>\n",
              "<style scoped>\n",
              "    .dataframe tbody tr th:only-of-type {\n",
              "        vertical-align: middle;\n",
              "    }\n",
              "\n",
              "    .dataframe tbody tr th {\n",
              "        vertical-align: top;\n",
              "    }\n",
              "\n",
              "    .dataframe thead th {\n",
              "        text-align: right;\n",
              "    }\n",
              "</style>\n",
              "<table border=\"1\" class=\"dataframe\">\n",
              "  <thead>\n",
              "    <tr style=\"text-align: right;\">\n",
              "      <th></th>\n",
              "      <th>movie id</th>\n",
              "      <th>movie title</th>\n",
              "      <th>release date</th>\n",
              "      <th>unknown</th>\n",
              "      <th>Action</th>\n",
              "      <th>Adventure</th>\n",
              "      <th>Animation</th>\n",
              "      <th>Childrens</th>\n",
              "      <th>Comedy</th>\n",
              "      <th>Crime</th>\n",
              "      <th>Documentary</th>\n",
              "      <th>Drama</th>\n",
              "      <th>Fantasy</th>\n",
              "      <th>Film-Noir</th>\n",
              "      <th>Horror</th>\n",
              "      <th>Musical</th>\n",
              "      <th>Mystery</th>\n",
              "      <th>Romance</th>\n",
              "      <th>Sci-Fi</th>\n",
              "      <th>Thriller</th>\n",
              "      <th>War</th>\n",
              "      <th>Western</th>\n",
              "    </tr>\n",
              "  </thead>\n",
              "  <tbody>\n",
              "    <tr>\n",
              "      <th>0</th>\n",
              "      <td>1</td>\n",
              "      <td>Toy Story</td>\n",
              "      <td>01-Jan-1995</td>\n",
              "      <td>0</td>\n",
              "      <td>0</td>\n",
              "      <td>0</td>\n",
              "      <td>1</td>\n",
              "      <td>1</td>\n",
              "      <td>1</td>\n",
              "      <td>0</td>\n",
              "      <td>0</td>\n",
              "      <td>0</td>\n",
              "      <td>0</td>\n",
              "      <td>0</td>\n",
              "      <td>0</td>\n",
              "      <td>0</td>\n",
              "      <td>0</td>\n",
              "      <td>0</td>\n",
              "      <td>0</td>\n",
              "      <td>0</td>\n",
              "      <td>0</td>\n",
              "      <td>0</td>\n",
              "    </tr>\n",
              "    <tr>\n",
              "      <th>1</th>\n",
              "      <td>2</td>\n",
              "      <td>GoldenEye</td>\n",
              "      <td>01-Jan-1995</td>\n",
              "      <td>0</td>\n",
              "      <td>1</td>\n",
              "      <td>1</td>\n",
              "      <td>0</td>\n",
              "      <td>0</td>\n",
              "      <td>0</td>\n",
              "      <td>0</td>\n",
              "      <td>0</td>\n",
              "      <td>0</td>\n",
              "      <td>0</td>\n",
              "      <td>0</td>\n",
              "      <td>0</td>\n",
              "      <td>0</td>\n",
              "      <td>0</td>\n",
              "      <td>0</td>\n",
              "      <td>0</td>\n",
              "      <td>1</td>\n",
              "      <td>0</td>\n",
              "      <td>0</td>\n",
              "    </tr>\n",
              "    <tr>\n",
              "      <th>2</th>\n",
              "      <td>3</td>\n",
              "      <td>Four Rooms</td>\n",
              "      <td>01-Jan-1995</td>\n",
              "      <td>0</td>\n",
              "      <td>0</td>\n",
              "      <td>0</td>\n",
              "      <td>0</td>\n",
              "      <td>0</td>\n",
              "      <td>0</td>\n",
              "      <td>0</td>\n",
              "      <td>0</td>\n",
              "      <td>0</td>\n",
              "      <td>0</td>\n",
              "      <td>0</td>\n",
              "      <td>0</td>\n",
              "      <td>0</td>\n",
              "      <td>0</td>\n",
              "      <td>0</td>\n",
              "      <td>0</td>\n",
              "      <td>1</td>\n",
              "      <td>0</td>\n",
              "      <td>0</td>\n",
              "    </tr>\n",
              "    <tr>\n",
              "      <th>3</th>\n",
              "      <td>4</td>\n",
              "      <td>Get Shorty</td>\n",
              "      <td>01-Jan-1995</td>\n",
              "      <td>0</td>\n",
              "      <td>1</td>\n",
              "      <td>0</td>\n",
              "      <td>0</td>\n",
              "      <td>0</td>\n",
              "      <td>1</td>\n",
              "      <td>0</td>\n",
              "      <td>0</td>\n",
              "      <td>1</td>\n",
              "      <td>0</td>\n",
              "      <td>0</td>\n",
              "      <td>0</td>\n",
              "      <td>0</td>\n",
              "      <td>0</td>\n",
              "      <td>0</td>\n",
              "      <td>0</td>\n",
              "      <td>0</td>\n",
              "      <td>0</td>\n",
              "      <td>0</td>\n",
              "    </tr>\n",
              "    <tr>\n",
              "      <th>4</th>\n",
              "      <td>5</td>\n",
              "      <td>Copycat</td>\n",
              "      <td>01-Jan-1995</td>\n",
              "      <td>0</td>\n",
              "      <td>0</td>\n",
              "      <td>0</td>\n",
              "      <td>0</td>\n",
              "      <td>0</td>\n",
              "      <td>0</td>\n",
              "      <td>1</td>\n",
              "      <td>0</td>\n",
              "      <td>1</td>\n",
              "      <td>0</td>\n",
              "      <td>0</td>\n",
              "      <td>0</td>\n",
              "      <td>0</td>\n",
              "      <td>0</td>\n",
              "      <td>0</td>\n",
              "      <td>0</td>\n",
              "      <td>1</td>\n",
              "      <td>0</td>\n",
              "      <td>0</td>\n",
              "    </tr>\n",
              "  </tbody>\n",
              "</table>\n",
              "</div>"
            ],
            "text/plain": [
              "   movie id  movie title release date  unknown  ...  Sci-Fi  Thriller  War  Western\n",
              "0         1   Toy Story   01-Jan-1995        0  ...       0         0    0        0\n",
              "1         2   GoldenEye   01-Jan-1995        0  ...       0         1    0        0\n",
              "2         3  Four Rooms   01-Jan-1995        0  ...       0         1    0        0\n",
              "3         4  Get Shorty   01-Jan-1995        0  ...       0         0    0        0\n",
              "4         5     Copycat   01-Jan-1995        0  ...       0         1    0        0\n",
              "\n",
              "[5 rows x 22 columns]"
            ]
          },
          "metadata": {
            "tags": []
          },
          "execution_count": 8
        }
      ]
    },
    {
      "cell_type": "markdown",
      "metadata": {
        "id": "ClBmH4u-gWv_"
      },
      "source": [
        ""
      ]
    },
    {
      "cell_type": "markdown",
      "metadata": {
        "id": "YpAY5SoYptzs"
      },
      "source": [
        "### 3. Apply info, shape, describe, and find the number of missing values in the data. Present at least 3 observations from these operations - 2.5 marks\n",
        " - Note that you will need to do it for all the three datasets seperately"
      ]
    },
    {
      "cell_type": "code",
      "metadata": {
        "colab": {
          "base_uri": "https://localhost:8080/"
        },
        "id": "UHLUyj5Gptzs",
        "outputId": "40cd2468-b94c-4e32-e612-f39c9d80872c"
      },
      "source": [
        "data.info()\n",
        "print(data.shape)\n",
        "describedata = data[\"rating\"].describe() \n",
        "print(describedata)\n",
        "data.describe(include = \"all\")\n",
        "# show the boolean dataframe             \n",
        "print(\" \\n Displaying boolean Dataframe : \\n\\n\", data.isnull()) \n",
        "  \n",
        "# Count total NaN in a DataFrame \n",
        "print(\" \\nCount total NaN in a DataFrame : \\n\\n\", \n",
        "       data.isnull().sum() )\n"
      ],
      "execution_count": null,
      "outputs": [
        {
          "output_type": "stream",
          "text": [
            "<class 'pandas.core.frame.DataFrame'>\n",
            "RangeIndex: 100000 entries, 0 to 99999\n",
            "Data columns (total 4 columns):\n",
            " #   Column     Non-Null Count   Dtype\n",
            "---  ------     --------------   -----\n",
            " 0   user id    100000 non-null  int64\n",
            " 1   movie id   100000 non-null  int64\n",
            " 2   rating     100000 non-null  int64\n",
            " 3   timestamp  100000 non-null  int64\n",
            "dtypes: int64(4)\n",
            "memory usage: 3.1 MB\n",
            "(100000, 4)\n",
            "count    100000.000000\n",
            "mean          3.529860\n",
            "std           1.125674\n",
            "min           1.000000\n",
            "25%           3.000000\n",
            "50%           4.000000\n",
            "75%           4.000000\n",
            "max           5.000000\n",
            "Name: rating, dtype: float64\n",
            " \n",
            " Displaying boolean Dataframe : \n",
            "\n",
            "        user id  movie id  rating  timestamp\n",
            "0        False     False   False      False\n",
            "1        False     False   False      False\n",
            "2        False     False   False      False\n",
            "3        False     False   False      False\n",
            "4        False     False   False      False\n",
            "...        ...       ...     ...        ...\n",
            "99995    False     False   False      False\n",
            "99996    False     False   False      False\n",
            "99997    False     False   False      False\n",
            "99998    False     False   False      False\n",
            "99999    False     False   False      False\n",
            "\n",
            "[100000 rows x 4 columns]\n",
            " \n",
            "Count total NaN in a DataFrame : \n",
            "\n",
            " user id      0\n",
            "movie id     0\n",
            "rating       0\n",
            "timestamp    0\n",
            "dtype: int64\n"
          ],
          "name": "stdout"
        }
      ]
    },
    {
      "cell_type": "code",
      "metadata": {
        "colab": {
          "base_uri": "https://localhost:8080/"
        },
        "id": "kJsy-2PYiYC5",
        "outputId": "2eb1a294-0982-4f9e-aa3b-dedb207ad03d"
      },
      "source": [
        "item.info()\n",
        "print(item.shape)\n",
        "itemshape = item.shape\n",
        "print('\\nDataFrame Shape :', itemshape)\n",
        "print('\\nNumber of rows in item dataframe :', itemshape[0])\n",
        "print('\\nNumber of columns in item  dataframe :', itemshape[1])                                                                \n",
        "describeitem = item[\"Comedy\"].describe() \n",
        "print(describeitem)\n",
        "# show the boolean dataframe             \n",
        "print(\" \\n Displaying boolean item Dataframe : \\n\\n\", item.isnull()) \n",
        "  \n",
        "# Count total NaN in a DataFrame \n",
        "print(\" \\nCount total NaN in item DataFrame : \\n\\n\", \n",
        "       item.isnull().sum() )"
      ],
      "execution_count": null,
      "outputs": [
        {
          "output_type": "stream",
          "text": [
            "<class 'pandas.core.frame.DataFrame'>\n",
            "RangeIndex: 1681 entries, 0 to 1680\n",
            "Data columns (total 22 columns):\n",
            " #   Column        Non-Null Count  Dtype \n",
            "---  ------        --------------  ----- \n",
            " 0   movie id      1681 non-null   int64 \n",
            " 1   movie title   1681 non-null   object\n",
            " 2   release date  1681 non-null   object\n",
            " 3   unknown       1681 non-null   int64 \n",
            " 4   Action        1681 non-null   int64 \n",
            " 5   Adventure     1681 non-null   int64 \n",
            " 6   Animation     1681 non-null   int64 \n",
            " 7   Childrens     1681 non-null   int64 \n",
            " 8   Comedy        1681 non-null   int64 \n",
            " 9   Crime         1681 non-null   int64 \n",
            " 10  Documentary   1681 non-null   int64 \n",
            " 11  Drama         1681 non-null   int64 \n",
            " 12  Fantasy       1681 non-null   int64 \n",
            " 13  Film-Noir     1681 non-null   int64 \n",
            " 14  Horror        1681 non-null   int64 \n",
            " 15  Musical       1681 non-null   int64 \n",
            " 16  Mystery       1681 non-null   int64 \n",
            " 17  Romance       1681 non-null   int64 \n",
            " 18  Sci-Fi        1681 non-null   int64 \n",
            " 19  Thriller      1681 non-null   int64 \n",
            " 20  War           1681 non-null   int64 \n",
            " 21  Western       1681 non-null   int64 \n",
            "dtypes: int64(20), object(2)\n",
            "memory usage: 289.0+ KB\n",
            "(1681, 22)\n",
            "\n",
            "DataFrame Shape : (1681, 22)\n",
            "\n",
            "Number of rows in item dataframe : 1681\n",
            "\n",
            "Number of columns in item  dataframe : 22\n",
            "count    1681.000000\n",
            "mean        0.300416\n",
            "std         0.458576\n",
            "min         0.000000\n",
            "25%         0.000000\n",
            "50%         0.000000\n",
            "75%         1.000000\n",
            "max         1.000000\n",
            "Name: Comedy, dtype: float64\n",
            " \n",
            " Displaying boolean item Dataframe : \n",
            "\n",
            "       movie id  movie title  release date  ...  Thriller    War  Western\n",
            "0        False        False         False  ...     False  False    False\n",
            "1        False        False         False  ...     False  False    False\n",
            "2        False        False         False  ...     False  False    False\n",
            "3        False        False         False  ...     False  False    False\n",
            "4        False        False         False  ...     False  False    False\n",
            "...        ...          ...           ...  ...       ...    ...      ...\n",
            "1676     False        False         False  ...     False  False    False\n",
            "1677     False        False         False  ...     False  False    False\n",
            "1678     False        False         False  ...     False  False    False\n",
            "1679     False        False         False  ...     False  False    False\n",
            "1680     False        False         False  ...     False  False    False\n",
            "\n",
            "[1681 rows x 22 columns]\n",
            " \n",
            "Count total NaN in item DataFrame : \n",
            "\n",
            " movie id        0\n",
            "movie title     0\n",
            "release date    0\n",
            "unknown         0\n",
            "Action          0\n",
            "Adventure       0\n",
            "Animation       0\n",
            "Childrens       0\n",
            "Comedy          0\n",
            "Crime           0\n",
            "Documentary     0\n",
            "Drama           0\n",
            "Fantasy         0\n",
            "Film-Noir       0\n",
            "Horror          0\n",
            "Musical         0\n",
            "Mystery         0\n",
            "Romance         0\n",
            "Sci-Fi          0\n",
            "Thriller        0\n",
            "War             0\n",
            "Western         0\n",
            "dtype: int64\n"
          ],
          "name": "stdout"
        }
      ]
    },
    {
      "cell_type": "code",
      "metadata": {
        "colab": {
          "base_uri": "https://localhost:8080/"
        },
        "id": "h00WKiitoZRU",
        "outputId": "a498d275-bfc0-4513-f866-bd4eb98fb7bd"
      },
      "source": [
        "user.info()\n",
        "print(user.shape)\n",
        "usershape = user.shape\n",
        "print('\\nDataFrame Shape :', usershape)\n",
        "print('\\nNumber of rows in user dataframe :', usershape[0])\n",
        "print('\\nNumber of columns in user dataframe :', usershape[1])                                                                \n",
        "describeUser = user[\"gender\"].describe() \n",
        "print(describeUser)\n",
        "# show the boolean dataframe             \n",
        "print(\" \\n Displaying boolean user Dataframe : \\n\\n\", user.isnull()) \n",
        "  \n",
        "# Count total NaN in a DataFrame \n",
        "print(\" \\nCount total NaN in user DataFrame : \\n\\n\", \n",
        "       user.isnull().sum() )"
      ],
      "execution_count": null,
      "outputs": [
        {
          "output_type": "stream",
          "text": [
            "<class 'pandas.core.frame.DataFrame'>\n",
            "RangeIndex: 943 entries, 0 to 942\n",
            "Data columns (total 5 columns):\n",
            " #   Column      Non-Null Count  Dtype \n",
            "---  ------      --------------  ----- \n",
            " 0   user id     943 non-null    int64 \n",
            " 1   age         943 non-null    int64 \n",
            " 2   gender      943 non-null    object\n",
            " 3   occupation  943 non-null    object\n",
            " 4   zip code    943 non-null    object\n",
            "dtypes: int64(2), object(3)\n",
            "memory usage: 37.0+ KB\n",
            "(943, 5)\n",
            "\n",
            "DataFrame Shape : (943, 5)\n",
            "\n",
            "Number of rows in user dataframe : 943\n",
            "\n",
            "Number of columns in user dataframe : 5\n",
            "count     943\n",
            "unique      2\n",
            "top         M\n",
            "freq      670\n",
            "Name: gender, dtype: object\n",
            " \n",
            " Displaying boolean user Dataframe : \n",
            "\n",
            "      user id    age  gender  occupation  zip code\n",
            "0      False  False   False       False     False\n",
            "1      False  False   False       False     False\n",
            "2      False  False   False       False     False\n",
            "3      False  False   False       False     False\n",
            "4      False  False   False       False     False\n",
            "..       ...    ...     ...         ...       ...\n",
            "938    False  False   False       False     False\n",
            "939    False  False   False       False     False\n",
            "940    False  False   False       False     False\n",
            "941    False  False   False       False     False\n",
            "942    False  False   False       False     False\n",
            "\n",
            "[943 rows x 5 columns]\n",
            " \n",
            "Count total NaN in user DataFrame : \n",
            "\n",
            " user id       0\n",
            "age           0\n",
            "gender        0\n",
            "occupation    0\n",
            "zip code      0\n",
            "dtype: int64\n"
          ],
          "name": "stdout"
        }
      ]
    },
    {
      "cell_type": "code",
      "metadata": {
        "colab": {
          "base_uri": "https://localhost:8080/",
          "height": 458
        },
        "id": "VNY9gZeyqeUQ",
        "outputId": "dc0cb602-da16-4d02-ebd9-04c16d3157ea"
      },
      "source": [
        "item.describe(include = \"all\")\n"
      ],
      "execution_count": null,
      "outputs": [
        {
          "output_type": "execute_result",
          "data": {
            "text/html": [
              "<div>\n",
              "<style scoped>\n",
              "    .dataframe tbody tr th:only-of-type {\n",
              "        vertical-align: middle;\n",
              "    }\n",
              "\n",
              "    .dataframe tbody tr th {\n",
              "        vertical-align: top;\n",
              "    }\n",
              "\n",
              "    .dataframe thead th {\n",
              "        text-align: right;\n",
              "    }\n",
              "</style>\n",
              "<table border=\"1\" class=\"dataframe\">\n",
              "  <thead>\n",
              "    <tr style=\"text-align: right;\">\n",
              "      <th></th>\n",
              "      <th>movie id</th>\n",
              "      <th>movie title</th>\n",
              "      <th>release date</th>\n",
              "      <th>unknown</th>\n",
              "      <th>Action</th>\n",
              "      <th>Adventure</th>\n",
              "      <th>Animation</th>\n",
              "      <th>Childrens</th>\n",
              "      <th>Comedy</th>\n",
              "      <th>Crime</th>\n",
              "      <th>Documentary</th>\n",
              "      <th>Drama</th>\n",
              "      <th>Fantasy</th>\n",
              "      <th>Film-Noir</th>\n",
              "      <th>Horror</th>\n",
              "      <th>Musical</th>\n",
              "      <th>Mystery</th>\n",
              "      <th>Romance</th>\n",
              "      <th>Sci-Fi</th>\n",
              "      <th>Thriller</th>\n",
              "      <th>War</th>\n",
              "      <th>Western</th>\n",
              "    </tr>\n",
              "  </thead>\n",
              "  <tbody>\n",
              "    <tr>\n",
              "      <th>count</th>\n",
              "      <td>1681.000000</td>\n",
              "      <td>1681</td>\n",
              "      <td>1681</td>\n",
              "      <td>1681.000000</td>\n",
              "      <td>1681.000000</td>\n",
              "      <td>1681.000000</td>\n",
              "      <td>1681.000000</td>\n",
              "      <td>1681.000000</td>\n",
              "      <td>1681.000000</td>\n",
              "      <td>1681.000000</td>\n",
              "      <td>1681.000000</td>\n",
              "      <td>1681.000000</td>\n",
              "      <td>1681.000000</td>\n",
              "      <td>1681.000000</td>\n",
              "      <td>1681.000000</td>\n",
              "      <td>1681.000000</td>\n",
              "      <td>1681.000000</td>\n",
              "      <td>1681.000000</td>\n",
              "      <td>1681.000000</td>\n",
              "      <td>1681.000000</td>\n",
              "      <td>1681.000000</td>\n",
              "      <td>1681.000000</td>\n",
              "    </tr>\n",
              "    <tr>\n",
              "      <th>unique</th>\n",
              "      <td>NaN</td>\n",
              "      <td>1658</td>\n",
              "      <td>240</td>\n",
              "      <td>NaN</td>\n",
              "      <td>NaN</td>\n",
              "      <td>NaN</td>\n",
              "      <td>NaN</td>\n",
              "      <td>NaN</td>\n",
              "      <td>NaN</td>\n",
              "      <td>NaN</td>\n",
              "      <td>NaN</td>\n",
              "      <td>NaN</td>\n",
              "      <td>NaN</td>\n",
              "      <td>NaN</td>\n",
              "      <td>NaN</td>\n",
              "      <td>NaN</td>\n",
              "      <td>NaN</td>\n",
              "      <td>NaN</td>\n",
              "      <td>NaN</td>\n",
              "      <td>NaN</td>\n",
              "      <td>NaN</td>\n",
              "      <td>NaN</td>\n",
              "    </tr>\n",
              "    <tr>\n",
              "      <th>top</th>\n",
              "      <td>NaN</td>\n",
              "      <td>That Darn Cat!</td>\n",
              "      <td>01-Jan-1995</td>\n",
              "      <td>NaN</td>\n",
              "      <td>NaN</td>\n",
              "      <td>NaN</td>\n",
              "      <td>NaN</td>\n",
              "      <td>NaN</td>\n",
              "      <td>NaN</td>\n",
              "      <td>NaN</td>\n",
              "      <td>NaN</td>\n",
              "      <td>NaN</td>\n",
              "      <td>NaN</td>\n",
              "      <td>NaN</td>\n",
              "      <td>NaN</td>\n",
              "      <td>NaN</td>\n",
              "      <td>NaN</td>\n",
              "      <td>NaN</td>\n",
              "      <td>NaN</td>\n",
              "      <td>NaN</td>\n",
              "      <td>NaN</td>\n",
              "      <td>NaN</td>\n",
              "    </tr>\n",
              "    <tr>\n",
              "      <th>freq</th>\n",
              "      <td>NaN</td>\n",
              "      <td>3</td>\n",
              "      <td>215</td>\n",
              "      <td>NaN</td>\n",
              "      <td>NaN</td>\n",
              "      <td>NaN</td>\n",
              "      <td>NaN</td>\n",
              "      <td>NaN</td>\n",
              "      <td>NaN</td>\n",
              "      <td>NaN</td>\n",
              "      <td>NaN</td>\n",
              "      <td>NaN</td>\n",
              "      <td>NaN</td>\n",
              "      <td>NaN</td>\n",
              "      <td>NaN</td>\n",
              "      <td>NaN</td>\n",
              "      <td>NaN</td>\n",
              "      <td>NaN</td>\n",
              "      <td>NaN</td>\n",
              "      <td>NaN</td>\n",
              "      <td>NaN</td>\n",
              "      <td>NaN</td>\n",
              "    </tr>\n",
              "    <tr>\n",
              "      <th>mean</th>\n",
              "      <td>841.841761</td>\n",
              "      <td>NaN</td>\n",
              "      <td>NaN</td>\n",
              "      <td>0.000595</td>\n",
              "      <td>0.149316</td>\n",
              "      <td>0.080309</td>\n",
              "      <td>0.024985</td>\n",
              "      <td>0.072576</td>\n",
              "      <td>0.300416</td>\n",
              "      <td>0.064842</td>\n",
              "      <td>0.029744</td>\n",
              "      <td>0.431291</td>\n",
              "      <td>0.013087</td>\n",
              "      <td>0.014277</td>\n",
              "      <td>0.054729</td>\n",
              "      <td>0.033314</td>\n",
              "      <td>0.036288</td>\n",
              "      <td>0.146936</td>\n",
              "      <td>0.060083</td>\n",
              "      <td>0.149316</td>\n",
              "      <td>0.042237</td>\n",
              "      <td>0.016062</td>\n",
              "    </tr>\n",
              "    <tr>\n",
              "      <th>std</th>\n",
              "      <td>485.638077</td>\n",
              "      <td>NaN</td>\n",
              "      <td>NaN</td>\n",
              "      <td>0.024390</td>\n",
              "      <td>0.356506</td>\n",
              "      <td>0.271852</td>\n",
              "      <td>0.156126</td>\n",
              "      <td>0.259516</td>\n",
              "      <td>0.458576</td>\n",
              "      <td>0.246321</td>\n",
              "      <td>0.169931</td>\n",
              "      <td>0.495404</td>\n",
              "      <td>0.113683</td>\n",
              "      <td>0.118667</td>\n",
              "      <td>0.227519</td>\n",
              "      <td>0.179507</td>\n",
              "      <td>0.187061</td>\n",
              "      <td>0.354148</td>\n",
              "      <td>0.237712</td>\n",
              "      <td>0.356506</td>\n",
              "      <td>0.201189</td>\n",
              "      <td>0.125751</td>\n",
              "    </tr>\n",
              "    <tr>\n",
              "      <th>min</th>\n",
              "      <td>1.000000</td>\n",
              "      <td>NaN</td>\n",
              "      <td>NaN</td>\n",
              "      <td>0.000000</td>\n",
              "      <td>0.000000</td>\n",
              "      <td>0.000000</td>\n",
              "      <td>0.000000</td>\n",
              "      <td>0.000000</td>\n",
              "      <td>0.000000</td>\n",
              "      <td>0.000000</td>\n",
              "      <td>0.000000</td>\n",
              "      <td>0.000000</td>\n",
              "      <td>0.000000</td>\n",
              "      <td>0.000000</td>\n",
              "      <td>0.000000</td>\n",
              "      <td>0.000000</td>\n",
              "      <td>0.000000</td>\n",
              "      <td>0.000000</td>\n",
              "      <td>0.000000</td>\n",
              "      <td>0.000000</td>\n",
              "      <td>0.000000</td>\n",
              "      <td>0.000000</td>\n",
              "    </tr>\n",
              "    <tr>\n",
              "      <th>25%</th>\n",
              "      <td>422.000000</td>\n",
              "      <td>NaN</td>\n",
              "      <td>NaN</td>\n",
              "      <td>0.000000</td>\n",
              "      <td>0.000000</td>\n",
              "      <td>0.000000</td>\n",
              "      <td>0.000000</td>\n",
              "      <td>0.000000</td>\n",
              "      <td>0.000000</td>\n",
              "      <td>0.000000</td>\n",
              "      <td>0.000000</td>\n",
              "      <td>0.000000</td>\n",
              "      <td>0.000000</td>\n",
              "      <td>0.000000</td>\n",
              "      <td>0.000000</td>\n",
              "      <td>0.000000</td>\n",
              "      <td>0.000000</td>\n",
              "      <td>0.000000</td>\n",
              "      <td>0.000000</td>\n",
              "      <td>0.000000</td>\n",
              "      <td>0.000000</td>\n",
              "      <td>0.000000</td>\n",
              "    </tr>\n",
              "    <tr>\n",
              "      <th>50%</th>\n",
              "      <td>842.000000</td>\n",
              "      <td>NaN</td>\n",
              "      <td>NaN</td>\n",
              "      <td>0.000000</td>\n",
              "      <td>0.000000</td>\n",
              "      <td>0.000000</td>\n",
              "      <td>0.000000</td>\n",
              "      <td>0.000000</td>\n",
              "      <td>0.000000</td>\n",
              "      <td>0.000000</td>\n",
              "      <td>0.000000</td>\n",
              "      <td>0.000000</td>\n",
              "      <td>0.000000</td>\n",
              "      <td>0.000000</td>\n",
              "      <td>0.000000</td>\n",
              "      <td>0.000000</td>\n",
              "      <td>0.000000</td>\n",
              "      <td>0.000000</td>\n",
              "      <td>0.000000</td>\n",
              "      <td>0.000000</td>\n",
              "      <td>0.000000</td>\n",
              "      <td>0.000000</td>\n",
              "    </tr>\n",
              "    <tr>\n",
              "      <th>75%</th>\n",
              "      <td>1262.000000</td>\n",
              "      <td>NaN</td>\n",
              "      <td>NaN</td>\n",
              "      <td>0.000000</td>\n",
              "      <td>0.000000</td>\n",
              "      <td>0.000000</td>\n",
              "      <td>0.000000</td>\n",
              "      <td>0.000000</td>\n",
              "      <td>1.000000</td>\n",
              "      <td>0.000000</td>\n",
              "      <td>0.000000</td>\n",
              "      <td>1.000000</td>\n",
              "      <td>0.000000</td>\n",
              "      <td>0.000000</td>\n",
              "      <td>0.000000</td>\n",
              "      <td>0.000000</td>\n",
              "      <td>0.000000</td>\n",
              "      <td>0.000000</td>\n",
              "      <td>0.000000</td>\n",
              "      <td>0.000000</td>\n",
              "      <td>0.000000</td>\n",
              "      <td>0.000000</td>\n",
              "    </tr>\n",
              "    <tr>\n",
              "      <th>max</th>\n",
              "      <td>1682.000000</td>\n",
              "      <td>NaN</td>\n",
              "      <td>NaN</td>\n",
              "      <td>1.000000</td>\n",
              "      <td>1.000000</td>\n",
              "      <td>1.000000</td>\n",
              "      <td>1.000000</td>\n",
              "      <td>1.000000</td>\n",
              "      <td>1.000000</td>\n",
              "      <td>1.000000</td>\n",
              "      <td>1.000000</td>\n",
              "      <td>1.000000</td>\n",
              "      <td>1.000000</td>\n",
              "      <td>1.000000</td>\n",
              "      <td>1.000000</td>\n",
              "      <td>1.000000</td>\n",
              "      <td>1.000000</td>\n",
              "      <td>1.000000</td>\n",
              "      <td>1.000000</td>\n",
              "      <td>1.000000</td>\n",
              "      <td>1.000000</td>\n",
              "      <td>1.000000</td>\n",
              "    </tr>\n",
              "  </tbody>\n",
              "</table>\n",
              "</div>"
            ],
            "text/plain": [
              "           movie id      movie title  ...          War      Western\n",
              "count   1681.000000             1681  ...  1681.000000  1681.000000\n",
              "unique          NaN             1658  ...          NaN          NaN\n",
              "top             NaN  That Darn Cat!   ...          NaN          NaN\n",
              "freq            NaN                3  ...          NaN          NaN\n",
              "mean     841.841761              NaN  ...     0.042237     0.016062\n",
              "std      485.638077              NaN  ...     0.201189     0.125751\n",
              "min        1.000000              NaN  ...     0.000000     0.000000\n",
              "25%      422.000000              NaN  ...     0.000000     0.000000\n",
              "50%      842.000000              NaN  ...     0.000000     0.000000\n",
              "75%     1262.000000              NaN  ...     0.000000     0.000000\n",
              "max     1682.000000              NaN  ...     1.000000     1.000000\n",
              "\n",
              "[11 rows x 22 columns]"
            ]
          },
          "metadata": {
            "tags": []
          },
          "execution_count": 12
        }
      ]
    },
    {
      "cell_type": "markdown",
      "metadata": {
        "id": "SrTm2JBHjUyn"
      },
      "source": [
        "Shape gives rows and columns of data frame\n"
      ]
    },
    {
      "cell_type": "markdown",
      "metadata": {
        "id": "jfRl6bD0ptzs"
      },
      "source": [
        "** *italicized text*Observations:**\n",
        "\n",
        "1.   No null values\n",
        "2.   Generes are binary\n",
        "\n",
        "\n"
      ]
    },
    {
      "cell_type": "markdown",
      "metadata": {
        "id": "r569XKZBptzt"
      },
      "source": [
        "### 4. Find the number of movies per genre using the item data - 2.5 marks"
      ]
    },
    {
      "cell_type": "code",
      "metadata": {
        "colab": {
          "base_uri": "https://localhost:8080/"
        },
        "id": "Ey6s8gA4kBmQ",
        "outputId": "25493e39-f3ec-4bfb-a149-f9409a59e639"
      },
      "source": [
        "itembeforecompuation=item\n",
        "def SumOfColumns(x):\n",
        "    y = x.sum(axis=0)\n",
        "    print(\"Computed DataFrame:\")\n",
        "    print(y)\n",
        "    print(\"\\nAfter removing first 3 rows of the said DataFrame:\")\n",
        "    print(\"\\nNumber of movies per genre using the item data:\")\n",
        "    df1 = y.iloc[3:]\n",
        "    return df1\n",
        "SumOfColumns(item)"
      ],
      "execution_count": null,
      "outputs": [
        {
          "output_type": "stream",
          "text": [
            "Computed DataFrame:\n",
            "movie id                                                  1415136\n",
            "movie title     Toy Story GoldenEye Four Rooms Get Shorty Copy...\n",
            "release date    01-Jan-199501-Jan-199501-Jan-199501-Jan-199501...\n",
            "unknown                                                         1\n",
            "Action                                                        251\n",
            "Adventure                                                     135\n",
            "Animation                                                      42\n",
            "Childrens                                                     122\n",
            "Comedy                                                        505\n",
            "Crime                                                         109\n",
            "Documentary                                                    50\n",
            "Drama                                                         725\n",
            "Fantasy                                                        22\n",
            "Film-Noir                                                      24\n",
            "Horror                                                         92\n",
            "Musical                                                        56\n",
            "Mystery                                                        61\n",
            "Romance                                                       247\n",
            "Sci-Fi                                                        101\n",
            "Thriller                                                      251\n",
            "War                                                            71\n",
            "Western                                                        27\n",
            "dtype: object\n",
            "\n",
            "After removing first 3 rows of the said DataFrame:\n",
            "\n",
            "Number of movies per genre using the item data:\n"
          ],
          "name": "stdout"
        },
        {
          "output_type": "execute_result",
          "data": {
            "text/plain": [
              "unknown          1\n",
              "Action         251\n",
              "Adventure      135\n",
              "Animation       42\n",
              "Childrens      122\n",
              "Comedy         505\n",
              "Crime          109\n",
              "Documentary     50\n",
              "Drama          725\n",
              "Fantasy         22\n",
              "Film-Noir       24\n",
              "Horror          92\n",
              "Musical         56\n",
              "Mystery         61\n",
              "Romance        247\n",
              "Sci-Fi         101\n",
              "Thriller       251\n",
              "War             71\n",
              "Western         27\n",
              "dtype: object"
            ]
          },
          "metadata": {
            "tags": []
          },
          "execution_count": 13
        }
      ]
    },
    {
      "cell_type": "markdown",
      "metadata": {
        "id": "tmuXJJDDptzt"
      },
      "source": [
        "**Insights:**\n",
        "\n",
        "1.   Drama is the highest\n",
        "\n",
        "\n",
        "\n"
      ]
    },
    {
      "cell_type": "markdown",
      "metadata": {
        "id": "Jrl5f1TZptzt"
      },
      "source": [
        "### 5. Drop the movie where the genre is unknown - 2.5 marks"
      ]
    },
    {
      "cell_type": "code",
      "metadata": {
        "colab": {
          "base_uri": "https://localhost:8080/"
        },
        "id": "zWzif3hsptzt",
        "outputId": "382d3f12-6275-4050-ec1e-c5e51699053c"
      },
      "source": [
        "DataFrameWithoutUnknownType = pd.read_csv('item.csv')\n",
        "print(\" \\n Dataframe on dropping 'Unknown' columns :\\n\\n\")\n",
        "DataFrameWithoutUnknownType.drop(columns='unknown')\n",
        "DataFrameWithoutUnknownType.drop([\"unknown\"], axis=1, inplace=True)\n",
        "DataFrameWithoutUnknownType.columns"
      ],
      "execution_count": 152,
      "outputs": [
        {
          "output_type": "stream",
          "text": [
            " \n",
            " Dataframe on dropping 'Unknown' columns :\n",
            "\n",
            "\n"
          ],
          "name": "stdout"
        },
        {
          "output_type": "execute_result",
          "data": {
            "text/plain": [
              "Index(['movie id', 'movie title', 'release date', 'Action', 'Adventure',\n",
              "       'Animation', 'Childrens', 'Comedy', 'Crime', 'Documentary', 'Drama',\n",
              "       'Fantasy', 'Film-Noir', 'Horror', 'Musical', 'Mystery', 'Romance',\n",
              "       'Sci-Fi', 'Thriller', 'War', 'Western'],\n",
              "      dtype='object')"
            ]
          },
          "metadata": {
            "tags": []
          },
          "execution_count": 152
        }
      ]
    },
    {
      "cell_type": "markdown",
      "metadata": {
        "id": "T-VlFCpVptzt"
      },
      "source": [
        "**Insights:**\n",
        "\n",
        "1.  DataFrameWithoutUnknownType.drop([\"unknown\"], axis=1, inplace=True)\n",
        " is the apt way to drop columns\n",
        "2.   Inplace must be true\n",
        "\n",
        "\n"
      ]
    },
    {
      "cell_type": "markdown",
      "metadata": {
        "id": "WOE47kegptzu"
      },
      "source": [
        "### 6. Find the movies that have more than one genre - 5 marks\n",
        "\n",
        "> Indented block\n",
        "\n",
        "\n",
        "\n",
        "hint: use sum on the axis = 1\n",
        "\n",
        "Display movie name, number of genres for the movie in dataframe\n",
        "\n",
        "and also print(total number of movies which have more than one genres)"
      ]
    },
    {
      "cell_type": "code",
      "metadata": {
        "colab": {
          "base_uri": "https://localhost:8080/"
        },
        "id": "WCGfm6heptzu",
        "outputId": "142eb31a-6ab7-4deb-f64f-827ebaee2ca1"
      },
      "source": [
        "item.columns"
      ],
      "execution_count": null,
      "outputs": [
        {
          "output_type": "execute_result",
          "data": {
            "text/plain": [
              "Index(['movie id', 'movie title', 'release date', 'unknown', 'Action',\n",
              "       'Adventure', 'Animation', 'Childrens', 'Comedy', 'Crime', 'Documentary',\n",
              "       'Drama', 'Fantasy', 'Film-Noir', 'Horror', 'Musical', 'Mystery',\n",
              "       'Romance', 'Sci-Fi', 'Thriller', 'War', 'Western'],\n",
              "      dtype='object')"
            ]
          },
          "metadata": {
            "tags": []
          },
          "execution_count": 15
        }
      ]
    },
    {
      "cell_type": "code",
      "metadata": {
        "colab": {
          "base_uri": "https://localhost:8080/",
          "height": 0
        },
        "id": "Pg4wOk3LmcgB",
        "outputId": "4c73c1c4-bfe8-4f86-d137-8a6725f16adb"
      },
      "source": [
        "MovieGenreCalculation = pd.read_csv('item.csv')\n",
        "MovieGenreCalculation.columns\n",
        "MovieGenreCalculation[\"Genres\"] =MovieGenreCalculation.loc[:,'Action':'Western'].sum(axis=1)\n",
        "MovieGenreCalculation = MovieGenreCalculation[MovieGenreCalculation.Genres > 1]\n",
        "\n",
        "print(\" \\n Displaying Movies Genre Count:\\n\\n\",MovieGenreCalculation[['movie title', 'Genres']])\n",
        "print(\" \\n Displaying Movies Genre with count of 6 : \\n\\n\",MovieGenreCalculation[MovieGenreCalculation.Genres ==6][['movie title', 'Genres']])\n",
        "print(\" \\n Displaying  Movies Genre with count of 5 : \\n\\n\",MovieGenreCalculation[MovieGenreCalculation.Genres ==5 ][['movie title', 'Genres']])\n",
        "print(\" \\n Displaying  Movies Genre with count of 4  : \\n\\n\",MovieGenreCalculation[MovieGenreCalculation.Genres ==4][['movie title', 'Genres']])\n",
        "print(\" \\n Displaying  Movies Genre with count of 3 : \\n\\n\",MovieGenreCalculation[MovieGenreCalculation.Genres ==3][['movie title', 'Genres']])\n",
        "print(\" \\n Displaying  Movies Genre with count of 2  : \\n\\n\",MovieGenreCalculation[MovieGenreCalculation.Genres ==2][['movie title', 'Genres']])\n"
      ],
      "execution_count": 68,
      "outputs": [
        {
          "output_type": "stream",
          "text": [
            " \n",
            " Displaying Movies Genre Count:\n",
            "\n",
            "              movie title  Genres\n",
            "0             Toy Story        3\n",
            "1             GoldenEye        3\n",
            "3            Get Shorty        3\n",
            "4               Copycat        3\n",
            "6        Twelve Monkeys        2\n",
            "...                  ...     ...\n",
            "1667  MURDER and murder        3\n",
            "1668            Tainted        2\n",
            "1671             Mirage        2\n",
            "1677          B. Monkey        2\n",
            "1678      Sliding Doors        2\n",
            "\n",
            "[849 rows x 2 columns]\n",
            " \n",
            " Displaying Movies Genre with count of 6 : \n",
            "\n",
            "                         movie title  Genres\n",
            "171       Empire Strikes Back, The        6\n",
            "424   Transformers: The Movie, The        6\n",
            "558  Kid in King Arthur's Court, A        6\n",
            " \n",
            " Displaying  Movies Genre with count of 5 : \n",
            "\n",
            "                   movie title  Genres\n",
            "16       From Dusk Till Dawn        5\n",
            "20    Muppet Treasure Island        5\n",
            "49                 Star Wars        5\n",
            "100              Heavy Metal        5\n",
            "180       Return of the Jedi        5\n",
            "183         Army of Darkness        5\n",
            "753                  Jumanji        5\n",
            "818                Space Jam        5\n",
            "853                     Diva        5\n",
            "991                 Hercules        5\n",
            "1074         Pagemaster, The        5\n",
            " \n",
            " Displaying  Movies Genre with count of 4  : \n",
            "\n",
            "                                    movie title  Genres\n",
            "28                             Batman Forever        4\n",
            "50                        Legends of the Fall        4\n",
            "54                          Professional, The        4\n",
            "94                                    Aladdin        4\n",
            "109                      Operation Dumbo Drop        4\n",
            "128                                     Bound        4\n",
            "131                         Wizard of Oz, The        4\n",
            "134                     2001: A Space Odyssey        4\n",
            "140              20,000 Leagues Under the Sea        4\n",
            "163                                Abyss, The        4\n",
            "172                       Princess Bride, The        4\n",
            "175                                    Aliens        4\n",
            "182                                     Alien        4\n",
            "200                              Evil Dead II        4\n",
            "205                                     Akira        4\n",
            "230                            Batman Returns        4\n",
            "234                             Mars Attacks!        4\n",
            "244                          Devil's Own, The        4\n",
            "251            Lost World: Jurassic Park, The        4\n",
            "256                              Men in Black        4\n",
            "259                             Event Horizon        4\n",
            "269                         Starship Troopers        4\n",
            "300                         L.A. Confidential        4\n",
            "305                     Devil's Advocate, The        4\n",
            "310   Midnight in the Garden of Good and Evil        4\n",
            "326                         Conspiracy Theory        4\n",
            "356                                     Spawn        4\n",
            "383                                 True Lies        4\n",
            "396                         Super Mario Bros.        4\n",
            "401                                    Batman        4\n",
            "409                      Nutty Professor, The        4\n",
            "421                E.T. the Extra-Terrestrial        4\n",
            "496                        African Queen, The        4\n",
            "540                                Pocahontas        4\n",
            "629                          Crying Game, The        4\n",
            "634                      Escape from New York        4\n",
            "663                                   Alien 3        4\n",
            "718                              First Knight        4\n",
            "767                                     Congo        4\n",
            "768                     Devil in a Blue Dress        4\n",
            "800                               Hard Target        4\n",
            "829                          Escape from L.A.        4\n",
            "900                         Big Lebowski, The        4\n",
            "912                               Wild Things        4\n",
            "943                                   Charade        4\n",
            "1089                            Pete's Dragon        4\n",
            "1108                                Tank Girl        4\n",
            "1136                                 Best Men        4\n",
            "1217                           Goofy Movie, A        4\n",
            "1291                                 Star Kid        4\n",
            "1613                       Warriors of Virtue        4\n",
            " \n",
            " Displaying  Movies Genre with count of 3 : \n",
            "\n",
            "                        movie title  Genres\n",
            "0                       Toy Story        3\n",
            "1                       GoldenEye        3\n",
            "3                      Get Shorty        3\n",
            "4                         Copycat        3\n",
            "7                            Babe        3\n",
            "...                            ...     ...\n",
            "1602           He Walked by Night        3\n",
            "1606                        Buddy        3\n",
            "1608  Truth or Consequences, N.M.        3\n",
            "1645                      Hana-bi        3\n",
            "1667            MURDER and murder        3\n",
            "\n",
            "[215 rows x 2 columns]\n",
            " \n",
            " Displaying  Movies Genre with count of 2  : \n",
            "\n",
            "                movie title  Genres\n",
            "6          Twelve Monkeys        2\n",
            "9             Richard III        2\n",
            "10          Seven (Se7en)        2\n",
            "11    Usual Suspects, The        2\n",
            "13            Postino, Il        2\n",
            "...                    ...     ...\n",
            "1661     Nothing Personal        2\n",
            "1668              Tainted        2\n",
            "1671               Mirage        2\n",
            "1677            B. Monkey        2\n",
            "1678        Sliding Doors        2\n",
            "\n",
            "[569 rows x 2 columns]\n"
          ],
          "name": "stdout"
        }
      ]
    },
    {
      "cell_type": "markdown",
      "metadata": {
        "id": "MNJ7Ms5dptzu"
      },
      "source": [
        "**Insights:**\n",
        "\n",
        "Count =849\n",
        "\n",
        "\n",
        "\n"
      ]
    },
    {
      "cell_type": "markdown",
      "metadata": {
        "id": "u8PGLFVtptzu"
      },
      "source": [
        "### 7. Univariate plots of columns: 'rating', 'Age', 'release year', 'Gender' and 'Occupation' - 10 marks\n",
        "\n",
        "> Indented block\n",
        "\n",
        "\n",
        "\n",
        "*HINT: Use distplot for age and countplot for release year, ratings, *\n",
        "\n",
        "*HINT: Please refer to the below snippet to understand how to get to release year from release date. You can use str.split() as depicted below or you could convert it to pandas datetime format and extract year (.dt.year)*"
      ]
    },
    {
      "cell_type": "code",
      "metadata": {
        "id": "GbiCATDHptzu",
        "outputId": "e4949249-a50e-46f0-91f3-a0bb341880ee"
      },
      "source": [
        "a = 'My*cat*is*brown'\n",
        "print(a.split('*')[3])\n",
        "\n",
        "#similarly, the release year needs to be taken out from release date\n",
        "\n",
        "#also you can simply slice existing string to get the desired data, if we want to take out the colour of the cat\n",
        "\n",
        "print(a[10:])\n",
        "print(a[-5:])"
      ],
      "execution_count": null,
      "outputs": [
        {
          "output_type": "stream",
          "text": [
            "brown\n",
            "brown\n",
            "brown\n"
          ],
          "name": "stdout"
        }
      ]
    },
    {
      "cell_type": "code",
      "metadata": {
        "colab": {
          "base_uri": "https://localhost:8080/",
          "height": 351
        },
        "id": "-vUrehyD0vgc",
        "outputId": "d2526bd4-cff1-4898-fd67-007f0cc66478"
      },
      "source": [
        "sns.distplot(data.rating.dropna())\n"
      ],
      "execution_count": 87,
      "outputs": [
        {
          "output_type": "stream",
          "text": [
            "/usr/local/lib/python3.7/dist-packages/seaborn/distributions.py:2557: FutureWarning: `distplot` is a deprecated function and will be removed in a future version. Please adapt your code to use either `displot` (a figure-level function with similar flexibility) or `histplot` (an axes-level function for histograms).\n",
            "  warnings.warn(msg, FutureWarning)\n"
          ],
          "name": "stderr"
        },
        {
          "output_type": "execute_result",
          "data": {
            "text/plain": [
              "<matplotlib.axes._subplots.AxesSubplot at 0x7f9e09d6d210>"
            ]
          },
          "metadata": {
            "tags": []
          },
          "execution_count": 87
        },
        {
          "output_type": "display_data",
          "data": {
            "image/png": "[encoded data removed]",
            "text/plain": [
              "<Figure size 432x288 with 1 Axes>"
            ]
          },
          "metadata": {
            "tags": [],
            "needs_background": "light"
          }
        }
      ]
    },
    {
      "cell_type": "code",
      "metadata": {
        "colab": {
          "base_uri": "https://localhost:8080/",
          "height": 283
        },
        "id": "gFphoyIVw0Pi",
        "outputId": "cc8b6dcf-5735-44d1-9354-4e9114d48324"
      },
      "source": [
        "data[\"rating\"].dropna().plot.hist()"
      ],
      "execution_count": 5,
      "outputs": [
        {
          "output_type": "execute_result",
          "data": {
            "text/plain": [
              "<matplotlib.axes._subplots.AxesSubplot at 0x7f9aedc72290>"
            ]
          },
          "metadata": {
            "tags": []
          },
          "execution_count": 5
        },
        {
          "output_type": "display_data",
          "data": {
            "image/png": "[encoded data removed]",
            "text/plain": [
              "<Figure size 432x288 with 1 Axes>"
            ]
          },
          "metadata": {
            "tags": [],
            "needs_background": "light"
          }
        }
      ]
    },
    {
      "cell_type": "code",
      "metadata": {
        "colab": {
          "base_uri": "https://localhost:8080/",
          "height": 279
        },
        "id": "4sKWOfW0xmWW",
        "outputId": "ad360b34-9c3c-46e5-88a0-73e1d8c0c010"
      },
      "source": [
        "sns.histplot(user['age'],color='orange')\n",
        "plt.show()\n"
      ],
      "execution_count": 6,
      "outputs": [
        {
          "output_type": "display_data",
          "data": {
            "image/png": "[encoded data removed]",
            "text/plain": [
              "<Figure size 432x288 with 1 Axes>"
            ]
          },
          "metadata": {
            "tags": [],
            "needs_background": "light"
          }
        }
      ]
    },
    {
      "cell_type": "code",
      "metadata": {
        "colab": {
          "base_uri": "https://localhost:8080/",
          "height": 297
        },
        "id": "LwVCBgGd1pnS",
        "outputId": "a5b44c12-31f8-492f-95a8-f7dd71e12c19"
      },
      "source": [
        "countplotforusergender = pd.read_csv('user.csv')\n",
        "sns.countplot(x=\"age\",hue=\"gender\", data=countplotforusergender, color='red') "
      ],
      "execution_count": 7,
      "outputs": [
        {
          "output_type": "execute_result",
          "data": {
            "text/plain": [
              "<matplotlib.axes._subplots.AxesSubplot at 0x7f9aecb32bd0>"
            ]
          },
          "metadata": {
            "tags": []
          },
          "execution_count": 7
        },
        {
          "output_type": "display_data",
          "data": {
            "image/png": "[encoded data removed]",
            "text/plain": [
              "<Figure size 432x288 with 1 Axes>"
            ]
          },
          "metadata": {
            "tags": [],
            "needs_background": "light"
          }
        }
      ]
    },
    {
      "cell_type": "code",
      "metadata": {
        "id": "kc-C9uda5I63"
      },
      "source": [
        "def plot_data(data):\n",
        "   \n",
        "\n",
        "    # age distribution plot\n",
        "    sns.countplot(y='age', data=data).set_title('Univariant distribution of age using count plot')\n",
        "    plt.show()\n",
        "\n",
        "    # gender distribution plot\n",
        "    sns.countplot(x='gender', data=data).set_title('Univariant distribution of gender using count plot')\n",
        "    plt.show()\n",
        "\n",
        "    # occupation distribution plot\n",
        "    sns.countplot(x='occupation', data=data).set_title('Univariant distribution of occupation using count plot')\n",
        "    plt.show()\n"
      ],
      "execution_count": 22,
      "outputs": []
    },
    {
      "cell_type": "code",
      "metadata": {
        "colab": {
          "base_uri": "https://localhost:8080/",
          "height": 851
        },
        "id": "EfMjSHs41p5A",
        "outputId": "9fa1bf80-4460-43ae-e4fd-6bb418cfafd6"
      },
      "source": [
        "plot_data(user)"
      ],
      "execution_count": 23,
      "outputs": [
        {
          "output_type": "display_data",
          "data": {
            "image/png": "[encoded data removed]",
            "text/plain": [
              "<Figure size 432x288 with 1 Axes>"
            ]
          },
          "metadata": {
            "tags": [],
            "needs_background": "light"
          }
        },
        {
          "output_type": "display_data",
          "data": {
            "image/png": "[encoded data removed]",
            "text/plain": [
              "<Figure size 432x288 with 1 Axes>"
            ]
          },
          "metadata": {
            "tags": [],
            "needs_background": "light"
          }
        },
        {
          "output_type": "display_data",
          "data": {
            "image/png": "[encoded data removed]",
            "text/plain": [
              "<Figure size 432x288 with 1 Axes>"
            ]
          },
          "metadata": {
            "tags": [],
            "needs_background": "light"
          }
        }
      ]
    },
    {
      "cell_type": "code",
      "metadata": {
        "colab": {
          "base_uri": "https://localhost:8080/",
          "height": 295
        },
        "id": "e_1Ftlhs1fj4",
        "outputId": "e08c7b97-c919-4874-c9a4-053aea82ec26"
      },
      "source": [
        "sns.countplot(x='rating', data=data).set_title('Univariant distribution of rating using count plot')\n",
        "plt.show()"
      ],
      "execution_count": 27,
      "outputs": [
        {
          "output_type": "display_data",
          "data": {
            "image/png": "[encoded data removed]",
            "text/plain": [
              "<Figure size 432x288 with 1 Axes>"
            ]
          },
          "metadata": {
            "tags": [],
            "needs_background": "light"
          }
        }
      ]
    },
    {
      "cell_type": "code",
      "metadata": {
        "colab": {
          "base_uri": "https://localhost:8080/",
          "height": 503
        },
        "id": "agndltWt15PG",
        "outputId": "812381f0-8da9-4222-e4e9-79b142b8f0c7"
      },
      "source": [
        "RetreiveYear=pd.read_csv('item.csv')\n",
        "RetreiveYear[\"release year trimmed\"] = RetreiveYear[\"release date\"]\n",
        "print(RetreiveYear[\"release year trimmed\"].str[-4:] )\n",
        "sns.countplot(x='release year trimmed', data=RetreiveYear).set_title('Univariant distribution of release year using count plot')\n",
        "plt.show()"
      ],
      "execution_count": 51,
      "outputs": [
        {
          "output_type": "stream",
          "text": [
            "0       1995\n",
            "1       1995\n",
            "2       1995\n",
            "3       1995\n",
            "4       1995\n",
            "        ... \n",
            "1676    1998\n",
            "1677    1998\n",
            "1678    1998\n",
            "1679    1994\n",
            "1680    1996\n",
            "Name: release year trimmed, Length: 1681, dtype: object\n"
          ],
          "name": "stdout"
        },
        {
          "output_type": "display_data",
          "data": {
            "image/png": "[encoded data removed]",
            "text/plain": [
              "<Figure size 432x288 with 1 Axes>"
            ]
          },
          "metadata": {
            "tags": [],
            "needs_background": "light"
          }
        }
      ]
    },
    {
      "cell_type": "markdown",
      "metadata": {
        "id": "3m_Zqi31ptzv"
      },
      "source": [
        "### 8. Visualize how popularity of genres has changed \n",
        "\n",
        "---\n",
        "\n",
        "over the years - 10 marks\n",
        "\n",
        "Note that you need to use the **percent of number of releases in a year** as a parameter of popularity of a genre\n",
        "\n",
        "Hint 1: You need to reach to a data frame where the release year is the index and the genre is the column names (one cell shows the number of release in a year in one genre) or vice versa. (Drop unnecessary column if there are any)\n",
        "\n",
        "Hint 2: Find the total number of movies release in a year(use item dataset to get count of movies released in a particular year, store that value in a new column as 'total'). Now divide the value of each genre in that year by total to get percentage number of release in a particular year.\n",
        "`(df.div(df['total'], axis= 0) * 100)`\n",
        "\n",
        "Once that is achieved, you can either use univariate plots or can use the heatmap to visualise all the changes over the years \n",
        "in one go. \n",
        "\n",
        "Hint 3: Use groupby on the relevant column and use sum() on the same to find out the number of releases in a year/genre."
      ]
    },
    {
      "cell_type": "code",
      "metadata": {
        "id": "Eygdz_JSptzw"
      },
      "source": [
        "FindNumberOfreleasesInyear= RetreiveYear.groupby('release year trimmed').sum()\n"
      ],
      "execution_count": 132,
      "outputs": []
    },
    {
      "cell_type": "code",
      "metadata": {
        "colab": {
          "base_uri": "https://localhost:8080/",
          "height": 509
        },
        "id": "ZGcPGgo5apbX",
        "outputId": "b5367495-01f8-4b60-f929-fb3474bbca46"
      },
      "source": [
        "moviecount = RetreiveYear.groupby('release year trimmed')['movie id'].count()\n",
        "\n",
        "plt.figure(figsize=(20,7))  \n",
        "sns.heatmap(FindNumberOfreleasesInyear, cmap='Accent')  \n",
        "plt.show()"
      ],
      "execution_count": 146,
      "outputs": [
        {
          "output_type": "display_data",
          "data": {
            "image/png": "[encoded data removed]",
            "text/plain": [
              "<Figure size 1440x504 with 2 Axes>"
            ]
          },
          "metadata": {
            "tags": [],
            "needs_background": "light"
          }
        }
      ]
    },
    {
      "cell_type": "markdown",
      "metadata": {
        "id": "kw4bDcLXptzw"
      },
      "source": [
        "**Insights:**\n",
        "\n"
      ]
    },
    {
      "cell_type": "markdown",
      "metadata": {
        "id": "hRSxruChptzw"
      },
      "source": [
        "### 9. Find the top 25 movies in terms of average ratings for movies that have been rated more than 100 times - 10 marks\n",
        "\n",
        "Hints : \n",
        "\n",
        "1. Find the count of ratings and average ratings for every movie.\n",
        "2. Slice the movies which have ratings more than 100.\n",
        "3. Sort values according to average rating such that movie which highest rating is on top.\n",
        "4. Select top 25 movies.\n",
        "5. You will have to use the .merge() function to get the movie titles.\n",
        "\n",
        "Note: This question will need you to research about groupby and apply your findings. You can find more on groupby on https://realpython.com/pandas-groupby/."
      ]
    },
    {
      "cell_type": "code",
      "metadata": {
        "id": "zxCIn-Opptzw",
        "colab": {
          "base_uri": "https://localhost:8080/",
          "height": 0
        },
        "outputId": "9f664faf-8c7a-48ba-c907-13e9b54106a3"
      },
      "source": [
        "getmovieratings = pd.merge(data, item)\n",
        "mapuserandrating = pd.merge(movie_ratings, user)\n",
        "highestrated = mapuserandrating.groupby('movie title').size().sort_values(ascending=False)[:25]\n",
        "highestrated"
      ],
      "execution_count": 120,
      "outputs": [
        {
          "output_type": "execute_result",
          "data": {
            "text/plain": [
              "movie title\n",
              "Star Wars                              583\n",
              "Contact                                509\n",
              "Fargo                                  508\n",
              "Return of the Jedi                     507\n",
              "Liar Liar                              485\n",
              "English Patient, The                   481\n",
              "Scream                                 478\n",
              "Toy Story                              452\n",
              "Air Force One                          431\n",
              "Independence Day (ID4)                 429\n",
              "Raiders of the Lost Ark                420\n",
              "Godfather, The                         413\n",
              "Pulp Fiction                           394\n",
              "Twelve Monkeys                         392\n",
              "Silence of the Lambs, The              390\n",
              "Jerry Maguire                          384\n",
              "Chasing Amy                            379\n",
              "Rock, The                              378\n",
              "Empire Strikes Back, The               367\n",
              "Star Trek: First Contact               365\n",
              "Back to the Future                     350\n",
              "Titanic                                350\n",
              "Mission: Impossible                    344\n",
              "Fugitive, The                          336\n",
              "Indiana Jones and the Last Crusade     331\n",
              "dtype: int64"
            ]
          },
          "metadata": {
            "tags": []
          },
          "execution_count": 120
        }
      ]
    },
    {
      "cell_type": "markdown",
      "metadata": {
        "id": "VfcmH-Zoptzw"
      },
      "source": [
        "### 10. Check for the validity of the below statements with respect to the data provided - 10 marks\n",
        "\n",
        "* Men watch more drama than women\n",
        "* Women watch more Sci-Fi than men\n",
        "* Men watch more Romance than women\n",
        "\n",
        "**compare the percentages**\n",
        "\n",
        "**Please pay attention to what should be the denominator while calculating percentages**"
      ]
    },
    {
      "cell_type": "markdown",
      "metadata": {
        "id": "wPt-v61cptzw"
      },
      "source": [
        "1. Merge all the datasets\n",
        "\n",
        "2. There is no need to conduct statistical tests around this. Just **compare the percentages** and comment on the validity of the above statements.\n",
        "\n",
        "3. you might want ot use the .sum(), .div() function here.\n",
        "\n",
        "4. Use number of ratings to validate the numbers. For example, if out of 4000 ratings received by women, 3000 are for drama, we will assume that 75% of the women watch drama."
      ]
    },
    {
      "cell_type": "code",
      "metadata": {
        "id": "SClz7ot1ptzx",
        "colab": {
          "base_uri": "https://localhost:8080/",
          "height": 0
        },
        "outputId": "f725d948-1c43-4272-ac21-80110366b272"
      },
      "source": [
        " mergeddataframe=data.merge(item).merge(user)\n",
        "\n",
        "print(mergeddataframe)\n",
        "\n",
        "mergeddataframe.columns\n",
        "\n",
        "mergeddataframe.dropna"
      ],
      "execution_count": 66,
      "outputs": [
        {
          "output_type": "stream",
          "text": [
            "       user id  movie id  rating  timestamp  ... age gender     occupation  zip code\n",
            "0          196       242       3  881250949  ...  49      M         writer     55105\n",
            "1          196       257       2  881251577  ...  49      M         writer     55105\n",
            "2          196       111       4  881251793  ...  49      M         writer     55105\n",
            "3          196        25       4  881251955  ...  49      M         writer     55105\n",
            "4          196       382       4  881251843  ...  49      M         writer     55105\n",
            "...        ...       ...     ...        ...  ...  ..    ...            ...       ...\n",
            "99986      873       313       5  891392177  ...  48      F  administrator     33763\n",
            "99987      873       326       4  891392656  ...  48      F  administrator     33763\n",
            "99988      873       348       3  891392577  ...  48      F  administrator     33763\n",
            "99989      873       358       2  891392698  ...  48      F  administrator     33763\n",
            "99990      873       342       4  891392698  ...  48      F  administrator     33763\n",
            "\n",
            "[99991 rows x 29 columns]\n"
          ],
          "name": "stdout"
        },
        {
          "output_type": "execute_result",
          "data": {
            "text/plain": [
              "<bound method DataFrame.dropna of        user id  movie id  rating  timestamp  ... age gender     occupation  zip code\n",
              "0          196       242       3  881250949  ...  49      M         writer     55105\n",
              "1          196       257       2  881251577  ...  49      M         writer     55105\n",
              "2          196       111       4  881251793  ...  49      M         writer     55105\n",
              "3          196        25       4  881251955  ...  49      M         writer     55105\n",
              "4          196       382       4  881251843  ...  49      M         writer     55105\n",
              "...        ...       ...     ...        ...  ...  ..    ...            ...       ...\n",
              "99986      873       313       5  891392177  ...  48      F  administrator     33763\n",
              "99987      873       326       4  891392656  ...  48      F  administrator     33763\n",
              "99988      873       348       3  891392577  ...  48      F  administrator     33763\n",
              "99989      873       358       2  891392698  ...  48      F  administrator     33763\n",
              "99990      873       342       4  891392698  ...  48      F  administrator     33763\n",
              "\n",
              "[99991 rows x 29 columns]>"
            ]
          },
          "metadata": {
            "tags": []
          },
          "execution_count": 66
        }
      ]
    },
    {
      "cell_type": "markdown",
      "metadata": {
        "id": "QCHjujRNptzx"
      },
      "source": [
        "**Conclusion:**\n",
        "    \n"
      ]
    },
    {
      "cell_type": "code",
      "metadata": {
        "colab": {
          "base_uri": "https://localhost:8080/",
          "height": 141
        },
        "id": "NJ8MccA8FT4a",
        "outputId": "83ccac10-5c12-474f-a5c8-6c9d19ad794f"
      },
      "source": [
        "\n",
        "\n",
        "df1=pd.DataFrame(mergeddataframe.groupby([\"age\"])[\"rating\"].mean())\n",
        "df1\n",
        "\n",
        "\n",
        "df2=pd.DataFrame(mergeddataframe.groupby([\"gender\"])[\"rating\"].mean())\n",
        "df2\n"
      ],
      "execution_count": 79,
      "outputs": [
        {
          "output_type": "execute_result",
          "data": {
            "text/html": [
              "<div>\n",
              "<style scoped>\n",
              "    .dataframe tbody tr th:only-of-type {\n",
              "        vertical-align: middle;\n",
              "    }\n",
              "\n",
              "    .dataframe tbody tr th {\n",
              "        vertical-align: top;\n",
              "    }\n",
              "\n",
              "    .dataframe thead th {\n",
              "        text-align: right;\n",
              "    }\n",
              "</style>\n",
              "<table border=\"1\" class=\"dataframe\">\n",
              "  <thead>\n",
              "    <tr style=\"text-align: right;\">\n",
              "      <th></th>\n",
              "      <th>rating</th>\n",
              "    </tr>\n",
              "    <tr>\n",
              "      <th>gender</th>\n",
              "      <th></th>\n",
              "    </tr>\n",
              "  </thead>\n",
              "  <tbody>\n",
              "    <tr>\n",
              "      <th>F</th>\n",
              "      <td>3.531510</td>\n",
              "    </tr>\n",
              "    <tr>\n",
              "      <th>M</th>\n",
              "      <td>3.529298</td>\n",
              "    </tr>\n",
              "  </tbody>\n",
              "</table>\n",
              "</div>"
            ],
            "text/plain": [
              "          rating\n",
              "gender          \n",
              "F       3.531510\n",
              "M       3.529298"
            ]
          },
          "metadata": {
            "tags": []
          },
          "execution_count": 79
        }
      ]
    },
    {
      "cell_type": "code",
      "metadata": {
        "colab": {
          "base_uri": "https://localhost:8080/",
          "height": 555
        },
        "id": "RT_aM1ErIBcq",
        "outputId": "171f46f2-6073-433f-f99f-8ac68cdab9dc"
      },
      "source": [
        "df = pd.merge(data, item, on='movie id')\n",
        "CompareGender = pd.merge(df, user, on='user id')\n",
        "\n",
        "female_movies = CompareGender = pd.merge(df, user, on='user id').groupby('gender').get_group('F')\n",
        "female_rating = data['rating'].mean()\n",
        "top_female_movies = pd.DataFrame()\n",
        "top_female_movies['mean_rating'] = female_movies.groupby('movie title')['rating'].mean()\n",
        "top_female_movies['num_ratings'] = female_movies.groupby('movie title')['rating'].count()\n",
        "top_female_movies['BE'] = (top_female_movies['num_ratings']*top_female_movies['mean_rating']+50*female_rating)/(top_female_movies['num_ratings']+50)\n",
        "top_female_movies.reset_index(level=0, inplace=True)\n",
        "\n",
        "male_movies = tmp.groupby('gender').get_group('M')\n",
        "male_rating = data['rating'].mean()\n",
        "top_male_movies = pd.DataFrame()\n",
        "top_male_movies['mean_rating'] = male_movies.groupby('movie title')['rating'].mean()\n",
        "top_male_movies['num_ratings'] = male_movies.groupby('movie title')['rating'].count()\n",
        "top_male_movies['BE'] = (top_male_movies['num_ratings']*top_male_movies['mean_rating']+50*male_rating)/(top_male_movies['num_ratings']+50)\n",
        "top_male_movies.reset_index(level=0, inplace=True)\n",
        "\n",
        "fig, axes = plt.subplots(nrows=1, ncols=1, figsize=(10,5))\n",
        "plt.tight_layout(pad=2)\n",
        "\n",
        "plt.subplot(1,2,1)\n",
        "sns.barplot(x=top_female_movies.sort_values('BE', ascending=False)['movie title'][:10], y=top_female_movies['BE'].sort_values(ascending=False)[:10], palette='muted')\n",
        "plt.xlabel('Movie Title')\n",
        "plt.ylabel('Weighted Rating by Females')\n",
        "plt.xticks(rotation=90)\n",
        "\n",
        "plt.subplot(1,2,2)\n",
        "sns.barplot(x=top_male_movies.sort_values('BE', ascending=False)['movie title'][:10], y=top_male_movies['BE'].sort_values(ascending=False)[:10], palette='muted')\n",
        "plt.xlabel('Movie Title')\n",
        "plt.ylabel('Weighted Rating by Males')\n",
        "plt.xticks(rotation=90)\n",
        "\n"
      ],
      "execution_count": 108,
      "outputs": [
        {
          "output_type": "execute_result",
          "data": {
            "text/plain": [
              "(array([0, 1, 2, 3, 4, 5, 6, 7, 8, 9]),\n",
              " <a list of 10 Text major ticklabel objects>)"
            ]
          },
          "metadata": {
            "tags": []
          },
          "execution_count": 108
        },
        {
          "output_type": "display_data",
          "data": {
            "image/png": "[encoded data removed]",
            "text/plain": [
              "<Figure size 720x360 with 2 Axes>"
            ]
          },
          "metadata": {
            "tags": [],
            "needs_background": "light"
          }
        }
      ]
    }
  ]
}